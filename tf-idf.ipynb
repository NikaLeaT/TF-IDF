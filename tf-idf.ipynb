{
 "cells": [
  {
   "cell_type": "code",
   "execution_count": 45,
   "metadata": {},
   "outputs": [
    {
     "name": "stdout",
     "output_type": "stream",
     "text": [
      "Requirement already satisfied: lxml in /usr/local/python/3.12.1/lib/python3.12/site-packages (5.3.1)\n",
      "\n",
      "\u001b[1m[\u001b[0m\u001b[34;49mnotice\u001b[0m\u001b[1;39;49m]\u001b[0m\u001b[39;49m A new release of pip is available: \u001b[0m\u001b[31;49m24.3.1\u001b[0m\u001b[39;49m -> \u001b[0m\u001b[32;49m25.0.1\u001b[0m\n",
      "\u001b[1m[\u001b[0m\u001b[34;49mnotice\u001b[0m\u001b[1;39;49m]\u001b[0m\u001b[39;49m To update, run: \u001b[0m\u001b[32;49mpython -m pip install --upgrade pip\u001b[0m\n",
      "Note: you may need to restart the kernel to use updated packages.\n"
     ]
    }
   ],
   "source": [
    "%pip install lxml"
   ]
  },
  {
   "cell_type": "code",
   "execution_count": 46,
   "metadata": {},
   "outputs": [],
   "source": [
    "from lxml import etree\n",
    "from pathlib import Path"
   ]
  },
  {
   "cell_type": "code",
   "execution_count": 47,
   "metadata": {},
   "outputs": [
    {
     "name": "stdout",
     "output_type": "stream",
     "text": [
      "tlg0012/tlg001/tlg0012.tlg001.perseus-eng3.xml\n",
      "tlg0012/tlg001/tlg0012.tlg001.perseus-eng4.xml\n",
      "tlg0012/tlg003/tlg0012.tlg003.perseus-eng1.xml\n",
      "tlg0012/tlg002/tlg0012.tlg002.perseus-eng4.xml\n",
      "tlg0012/tlg002/tlg0012.tlg002.perseus-eng3.xml\n"
     ]
    }
   ],
   "source": [
    "files = list(Path(\"tlg0012\").glob(\"./**/*perseus-eng*.xml\"))\n",
    "\n",
    "for f in files:\n",
    "    print(f)"
   ]
  },
  {
   "cell_type": "code",
   "execution_count": 48,
   "metadata": {},
   "outputs": [],
   "source": [
    "TEI_NS = \"http://www.tei-c.org/ns/1.0\"\n",
    "XML_NS = \"http://www.w3.org/XM:/1998/namespace\"\n",
    "\n",
    "NAMESPACES = {\n",
    "    \"tei\": TEI_NS,\n",
    "    \"xml\": XML_NS,\n",
    "}"
   ]
  },
  {
   "cell_type": "code",
   "execution_count": 55,
   "metadata": {},
   "outputs": [
    {
     "name": "stdout",
     "output_type": "stream",
     "text": [
      "tlg0012/tlg001/tlg0012.tlg001.perseus-eng3.xml\n",
      "tlg0012/tlg001/tlg0012.tlg001.perseus-eng4.xml\n",
      "tlg0012/tlg003/tlg0012.tlg003.perseus-eng1.xml\n",
      "tlg0012/tlg002/tlg0012.tlg002.perseus-eng4.xml\n",
      "tlg0012/tlg002/tlg0012.tlg002.perseus-eng3.xml\n"
     ]
    }
   ],
   "source": [
    "for file in files:\n",
    "    print(file)\n",
    "    tree = etree.parse(file)\n",
    "    text = tree.xpath(f\".//tei:div[@subtype='card']/tei:p/text()\", namespaces=NAMESPACES)\n",
    "    \n",
    "    cleaned_text = []\n",
    "    for t in text:\n",
    "        if t.strip() !=\"\":\n",
    "            cleaned_text.append(t)\n",
    "\n",
    "if len(cleaned_text) > 0:\n",
    "    with open(str(file).split(\"/\")[-1].replace(\".xml\", \".txt\"), \"w+\") as f:\n",
    "        f.write('\\n'.join(cleaned_text))\n",
    "\n",
    "    "
   ]
  },
  {
   "cell_type": "code",
   "execution_count": null,
   "metadata": {},
   "outputs": [],
   "source": []
  }
 ],
 "metadata": {
  "kernelspec": {
   "display_name": "Python 3",
   "language": "python",
   "name": "python3"
  },
  "language_info": {
   "codemirror_mode": {
    "name": "ipython",
    "version": 3
   },
   "file_extension": ".py",
   "mimetype": "text/x-python",
   "name": "python",
   "nbconvert_exporter": "python",
   "pygments_lexer": "ipython3",
   "version": "3.12.1"
  }
 },
 "nbformat": 4,
 "nbformat_minor": 2
}
